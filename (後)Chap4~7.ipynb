{
 "cells": [
  {
   "cell_type": "markdown",
   "metadata": {},
   "source": [
    "# Chap.4 numpy套件(numeric python)\n",
    "\n",
    "為什麼需要numpy?\n",
    "* numpy由c撰寫，速度快python 10~1000倍以上\n",
    "* numpy儲存結果較正確，python數字儲存不正確\n",
    "* numpy節省儲存空間\n",
    "* numpy的向量(矩陣計算)速度快\n",
    "* numpy的取值方便"
   ]
  },
  {
   "cell_type": "code",
   "execution_count": 2,
   "metadata": {},
   "outputs": [
    {
     "name": "stdout",
     "output_type": "stream",
     "text": [
      "[1, 2, 3, 4, 5, 1, 2, 3, 4, 5, 1, 2, 3, 4, 5]\n"
     ]
    }
   ],
   "source": [
    "a_list=[1,2,3,4,5]\n",
    "print(a_list*3)"
   ]
  },
  {
   "cell_type": "code",
   "execution_count": 4,
   "metadata": {},
   "outputs": [
    {
     "name": "stdout",
     "output_type": "stream",
     "text": [
      "[ 3  6  9 12 15]\n"
     ]
    }
   ],
   "source": [
    "#numpy套件的ndarray型態，提供element-wise的操作  //各別\n",
    "import numpy as np\n",
    "a=np.array([1,2,3,4,5]) #個別*3\n",
    "print(a*3)"
   ]
  },
  {
   "cell_type": "code",
   "execution_count": 6,
   "metadata": {},
   "outputs": [
    {
     "name": "stdout",
     "output_type": "stream",
     "text": [
      "<class 'numpy.ndarray'>\n",
      "(6,)\n",
      "int32\n",
      "1\n"
     ]
    }
   ],
   "source": [
    "a=np.array([1,2,3,4,5])\n",
    "print(type(a)) #型態\n",
    "print(a.shape) #ndaary的形狀(個數)\n",
    "print(a.dtype) #資料型態\n",
    "print(a.ndim) #維度"
   ]
  },
  {
   "cell_type": "code",
   "execution_count": 8,
   "metadata": {},
   "outputs": [
    {
     "name": "stdout",
     "output_type": "stream",
     "text": [
      "[0. 0. 0. 0. 0. 0.]\n",
      "[[0.00000000e+000 0.00000000e+000 0.00000000e+000 0.00000000e+000]\n",
      " [0.00000000e+000 5.33590898e-321 4.67296746e-307 1.69121095e-306]]\n",
      "[0 1 2 3 4 5 6 7 8 9]\n"
     ]
    }
   ],
   "source": [
    "import numpy as np\n",
    "z=np.zeros(6)   #0\n",
    "print(z)\n",
    "print(np.empty((2,4)))  #二維陣列\n",
    "print(np.arange(10)) "
   ]
  },
  {
   "cell_type": "markdown",
   "metadata": {},
   "source": [
    "# ndarray的進階操作\n"
   ]
  },
  {
   "cell_type": "code",
   "execution_count": 9,
   "metadata": {},
   "outputs": [
    {
     "name": "stdout",
     "output_type": "stream",
     "text": [
      "[0 1 2 3 4 5 6 7 8 9]\n",
      "0\n",
      "[0 1 2 3 4]\n"
     ]
    }
   ],
   "source": [
    "my_array=np.arange(10)\n",
    "print(my_array)\n",
    "print(my_array[0])\n",
    "print(my_array[0:5])"
   ]
  },
  {
   "cell_type": "code",
   "execution_count": 10,
   "metadata": {},
   "outputs": [
    {
     "name": "stdout",
     "output_type": "stream",
     "text": [
      "[[0 1 2 3 4]\n",
      " [5 6 7 8 9]]\n",
      "[5 6 7 8 9]\n",
      "[1 6]\n",
      "6\n"
     ]
    }
   ],
   "source": [
    "my_2d_array=np.array([np.arange(0,5),np.arange(5,10)]) #2維陣列\n",
    "print(my_2d_array)\n",
    "print(my_2d_array[1,:])     #第二列全部\n",
    "print(my_2d_array[:,1])     #全部的 第二個\n",
    "print(my_2d_array[1,1])     #第二列 第二個"
   ]
  },
  {
   "cell_type": "code",
   "execution_count": 11,
   "metadata": {},
   "outputs": [
    {
     "name": "stdout",
     "output_type": "stream",
     "text": [
      "[0 1 2 3 4 5 6 7 8 9]\n",
      "(10,)\n",
      "[[0 1 2 3 4]\n",
      " [5 6 7 8 9]]\n",
      "[[ 0  1  2  3  4  5  6  7  8  9]\n",
      " [10 11 12 13 14 15 16 17 18 19]\n",
      " [20 21 22 23 24 25 26 27 28 29]\n",
      " [30 31 32 33 34 35 36 37 38 39]\n",
      " [40 41 42 43 44 45 46 47 48 49]\n",
      " [50 51 52 53 54 55 56 57 58 59]\n",
      " [60 61 62 63 64 65 66 67 68 69]\n",
      " [70 71 72 73 74 75 76 77 78 79]\n",
      " [80 81 82 83 84 85 86 87 88 89]\n",
      " [90 91 92 93 94 95 96 97 98 99]]\n"
     ]
    }
   ],
   "source": [
    "my_array=np.arange(0,10)\n",
    "print(my_array)\n",
    "print(my_array.shape)  #形狀\n",
    "my_2d_array=my_array.reshape(2,5)  #1*10  切割成 2*5\n",
    "print(my_2d_array)\n",
    "print((np.arange(0,100).reshape(10,10))) #1*100 切割成10*10"
   ]
  },
  {
   "cell_type": "markdown",
   "metadata": {},
   "source": [
    "# numpy的空值nan"
   ]
  },
  {
   "cell_type": "code",
   "execution_count": 14,
   "metadata": {},
   "outputs": [
    {
     "name": "stdout",
     "output_type": "stream",
     "text": [
      "[56.  8. 19. 14. nan]\n"
     ]
    }
   ],
   "source": [
    "b=np.array([56,8,19,14,np.nan])   #np.nan =空值\n",
    "print(b)"
   ]
  },
  {
   "cell_type": "markdown",
   "metadata": {},
   "source": [
    "# Chap 5 \n",
    "## 函式(數)\n",
    "## 傳統的寫法"
   ]
  },
  {
   "cell_type": "code",
   "execution_count": 16,
   "metadata": {},
   "outputs": [
    {
     "name": "stdout",
     "output_type": "stream",
     "text": [
      "請輸入圓的半徑：1.5\n",
      "圓的面積為： 7.0685834705770345\n"
     ]
    }
   ],
   "source": [
    "import math\n",
    "radius=eval(input('請輸入圓的半徑：')) #把輸入的字串變成數學計算型態\n",
    "print(\"圓的面積為：\",radius*radius*math.pi)"
   ]
  },
  {
   "cell_type": "markdown",
   "metadata": {},
   "source": [
    "# 面積計算函式"
   ]
  },
  {
   "cell_type": "code",
   "execution_count": 1,
   "metadata": {},
   "outputs": [
    {
     "name": "stdout",
     "output_type": "stream",
     "text": [
      "3.141592653589793\n"
     ]
    }
   ],
   "source": [
    "import math\n",
    "def circle_area(radius):\n",
    "    area=radius*radius*math.pi\n",
    "    return area\n",
    "\n",
    "print(circle_area(1))"
   ]
  },
  {
   "cell_type": "code",
   "execution_count": null,
   "metadata": {},
   "outputs": [],
   "source": []
  },
  {
   "cell_type": "markdown",
   "metadata": {},
   "source": [
    "# Chap6\n",
    "OS套件:用來處理文件與目錄，與檔案相關操作"
   ]
  },
  {
   "cell_type": "code",
   "execution_count": 2,
   "metadata": {},
   "outputs": [
    {
     "name": "stdout",
     "output_type": "stream",
     "text": [
      "C:\\Users\\Administrator\n"
     ]
    }
   ],
   "source": [
    "import os\n",
    "print(os.getcwd()) #顯示目前所在的工作目錄"
   ]
  },
  {
   "cell_type": "code",
   "execution_count": 18,
   "metadata": {},
   "outputs": [
    {
     "data": {
      "text/plain": [
       "['.conda',\n",
       " '.condarc',\n",
       " '.config',\n",
       " '.dotnet',\n",
       " '.eclipse',\n",
       " '.ipynb_checkpoints',\n",
       " '.ipython',\n",
       " '.p2',\n",
       " '.packettracer',\n",
       " '.templateengine',\n",
       " '.tooling',\n",
       " '.VirtualBox',\n",
       " '.vscode',\n",
       " '20210514.ipynb',\n",
       " '3D Objects',\n",
       " 'anaconda3',\n",
       " 'AppData',\n",
       " 'Application Data',\n",
       " 'Cisco Packet Tracer 6.1.1sv',\n",
       " 'Cisco Packet Tracer 7.3.0',\n",
       " 'Cisco Packet Tracer 7.3.1',\n",
       " 'Contacts',\n",
       " 'Cookies',\n",
       " 'Desktop',\n",
       " 'Documents',\n",
       " 'Downloads',\n",
       " 'Favorites',\n",
       " 'Intel',\n",
       " 'IntelGraphicsProfiles',\n",
       " 'Links',\n",
       " 'Local Settings',\n",
       " 'MicrosoftEdgeBackups',\n",
       " 'Music',\n",
       " 'My Documents',\n",
       " 'NetHood',\n",
       " 'NTUSER.DAT',\n",
       " 'ntuser.dat.LOG1',\n",
       " 'ntuser.dat.LOG2',\n",
       " 'NTUSER.DAT{53b39e88-18c4-11ea-a811-000d3aa4692b}.TM.blf',\n",
       " 'NTUSER.DAT{53b39e88-18c4-11ea-a811-000d3aa4692b}.TMContainer00000000000000000001.regtrans-ms',\n",
       " 'NTUSER.DAT{53b39e88-18c4-11ea-a811-000d3aa4692b}.TMContainer00000000000000000002.regtrans-ms',\n",
       " 'ntuser.ini',\n",
       " 'Oracle',\n",
       " 'Pictures',\n",
       " 'PrintHood',\n",
       " 'Recent',\n",
       " 'Saved Games',\n",
       " 'Searches',\n",
       " 'SendTo',\n",
       " 'source',\n",
       " 'Templates',\n",
       " 'Videos',\n",
       " 'VirtualBox VMs',\n",
       " '「開始」功能表']"
      ]
     },
     "execution_count": 18,
     "metadata": {},
     "output_type": "execute_result"
    }
   ],
   "source": [
    "#顯示幕錄下的檔案\n",
    "os.listdir('.')"
   ]
  },
  {
   "cell_type": "code",
   "execution_count": 25,
   "metadata": {},
   "outputs": [
    {
     "data": {
      "text/plain": [
       "['.conda',\n",
       " '.condarc',\n",
       " '.config',\n",
       " '.dotnet',\n",
       " '.eclipse',\n",
       " '.ipynb_checkpoints',\n",
       " '.ipython',\n",
       " '.p2',\n",
       " '.packettracer',\n",
       " '.templateengine',\n",
       " '.tooling',\n",
       " '.VirtualBox',\n",
       " '.vscode',\n",
       " '20210514.ipynb',\n",
       " '3D Objects',\n",
       " 'anaconda3',\n",
       " 'AppData',\n",
       " 'Application Data',\n",
       " 'Cisco Packet Tracer 6.1.1sv',\n",
       " 'Cisco Packet Tracer 7.3.0',\n",
       " 'Cisco Packet Tracer 7.3.1',\n",
       " 'Contacts',\n",
       " 'Cookies',\n",
       " 'd',\n",
       " 'Desktop',\n",
       " 'Documents',\n",
       " 'Downloads',\n",
       " 'Favorites',\n",
       " 'Intel',\n",
       " 'IntelGraphicsProfiles',\n",
       " 'Links',\n",
       " 'Local Settings',\n",
       " 'MicrosoftEdgeBackups',\n",
       " 'Music',\n",
       " 'My Documents',\n",
       " 'NetHood',\n",
       " 'NTUSER.DAT',\n",
       " 'ntuser.dat.LOG1',\n",
       " 'ntuser.dat.LOG2',\n",
       " 'NTUSER.DAT{53b39e88-18c4-11ea-a811-000d3aa4692b}.TM.blf',\n",
       " 'NTUSER.DAT{53b39e88-18c4-11ea-a811-000d3aa4692b}.TMContainer00000000000000000001.regtrans-ms',\n",
       " 'NTUSER.DAT{53b39e88-18c4-11ea-a811-000d3aa4692b}.TMContainer00000000000000000002.regtrans-ms',\n",
       " 'ntuser.ini',\n",
       " 'Oracle',\n",
       " 'Pictures',\n",
       " 'PrintHood',\n",
       " 'Recent',\n",
       " 'Saved Games',\n",
       " 'Searches',\n",
       " 'SendTo',\n",
       " 'source',\n",
       " 'Templates',\n",
       " 'test',\n",
       " 'tttt',\n",
       " 'Videos',\n",
       " 'VirtualBox VMs',\n",
       " '「開始」功能表']"
      ]
     },
     "execution_count": 25,
     "metadata": {},
     "output_type": "execute_result"
    }
   ],
   "source": [
    "#新增目錄\n",
    "os.makedirs(\"tttt\")\n",
    "os.listdir(\".\")"
   ]
  },
  {
   "cell_type": "code",
   "execution_count": 26,
   "metadata": {},
   "outputs": [
    {
     "data": {
      "text/plain": [
       "['.conda',\n",
       " '.condarc',\n",
       " '.config',\n",
       " '.dotnet',\n",
       " '.eclipse',\n",
       " '.ipynb_checkpoints',\n",
       " '.ipython',\n",
       " '.p2',\n",
       " '.packettracer',\n",
       " '.templateengine',\n",
       " '.tooling',\n",
       " '.VirtualBox',\n",
       " '.vscode',\n",
       " '20210514.ipynb',\n",
       " '3D Objects',\n",
       " 'anaconda3',\n",
       " 'AppData',\n",
       " 'Application Data',\n",
       " 'Cisco Packet Tracer 6.1.1sv',\n",
       " 'Cisco Packet Tracer 7.3.0',\n",
       " 'Cisco Packet Tracer 7.3.1',\n",
       " 'Contacts',\n",
       " 'Cookies',\n",
       " 'd',\n",
       " 'Desktop',\n",
       " 'Documents',\n",
       " 'Downloads',\n",
       " 'Favorites',\n",
       " 'Intel',\n",
       " 'IntelGraphicsProfiles',\n",
       " 'Links',\n",
       " 'Local Settings',\n",
       " 'MicrosoftEdgeBackups',\n",
       " 'Music',\n",
       " 'My Documents',\n",
       " 'NetHood',\n",
       " 'NTUSER.DAT',\n",
       " 'ntuser.dat.LOG1',\n",
       " 'ntuser.dat.LOG2',\n",
       " 'NTUSER.DAT{53b39e88-18c4-11ea-a811-000d3aa4692b}.TM.blf',\n",
       " 'NTUSER.DAT{53b39e88-18c4-11ea-a811-000d3aa4692b}.TMContainer00000000000000000001.regtrans-ms',\n",
       " 'NTUSER.DAT{53b39e88-18c4-11ea-a811-000d3aa4692b}.TMContainer00000000000000000002.regtrans-ms',\n",
       " 'ntuser.ini',\n",
       " 'Oracle',\n",
       " 'Pictures',\n",
       " 'PrintHood',\n",
       " 'Recent',\n",
       " 'Saved Games',\n",
       " 'Searches',\n",
       " 'SendTo',\n",
       " 'source',\n",
       " 'Templates',\n",
       " 'tttt',\n",
       " 'Videos',\n",
       " 'VirtualBox VMs',\n",
       " '「開始」功能表']"
      ]
     },
     "execution_count": 26,
     "metadata": {},
     "output_type": "execute_result"
    }
   ],
   "source": [
    "#移除目錄\n",
    "os.rmdir(\"test\")\n",
    "os.listdir(\".\")"
   ]
  },
  {
   "cell_type": "markdown",
   "metadata": {},
   "source": [
    "## 檔案處理\n",
    "os套件有自己的檔案處理命令，而比較常用的是python內建的open\n",
    "* w =可寫(預設建立檔案) 若檔案存在則會清除舊檔案\n",
    "* w+ =可寫可讀(預設建立檔案) 若檔案存在則會清除舊檔案\n",
    "* r = 可讀\n",
    "* r+ =可寫可讀 但寫入資料指向開頭\n",
    "* a =可寫不能讀 寫入資料指向尾端\n",
    "* a+ =可寫可讀 寫入資料指向尾端\n",
    "* b =轉為2進位文件\n",
    "* ab+ =2進位文件的讀寫 寫入資料指向尾端"
   ]
  },
  {
   "cell_type": "code",
   "execution_count": 27,
   "metadata": {},
   "outputs": [],
   "source": [
    "# 新增檔案\n",
    "a=open(\"a.txt\",\"w\") #新增檔案\n",
    "a.write(\"this is a test1\")\n",
    "a.write(\"this is a test2\\n\")\n",
    "a.write(\"this is a test3\\n\")\n",
    "a.close() #關閉檔案"
   ]
  },
  {
   "cell_type": "markdown",
   "metadata": {},
   "source": [
    "## 檢查檔案是否存在"
   ]
  },
  {
   "cell_type": "code",
   "execution_count": 28,
   "metadata": {},
   "outputs": [
    {
     "data": {
      "text/plain": [
       "True"
      ]
     },
     "execution_count": 28,
     "metadata": {},
     "output_type": "execute_result"
    }
   ],
   "source": [
    "os.path.isfile(\"a.txt\")"
   ]
  },
  {
   "cell_type": "markdown",
   "metadata": {},
   "source": [
    "# 讀取檔案"
   ]
  },
  {
   "cell_type": "code",
   "execution_count": 29,
   "metadata": {},
   "outputs": [
    {
     "name": "stdout",
     "output_type": "stream",
     "text": [
      "this is a test1this is a test2\n",
      "\n",
      "this is a test3\n",
      "\n",
      "\n"
     ]
    }
   ],
   "source": [
    "a=open(\"a.txt\",\"r\")\n",
    "print(a.readline())\n",
    "print(a.readline())\n",
    "print(a.readline()) #多餘的命令，檔案只有兩行\n",
    "a.close()"
   ]
  },
  {
   "cell_type": "code",
   "execution_count": 30,
   "metadata": {},
   "outputs": [
    {
     "name": "stdout",
     "output_type": "stream",
     "text": [
      "['this is a test1this is a test2\\n', 'this is a test3\\n']\n"
     ]
    }
   ],
   "source": [
    "a=open(\"a.txt\",\"r\")\n",
    "print(a.readlines()) #一次讀取多行，與a.read()命令相同\n",
    "a.close()"
   ]
  },
  {
   "cell_type": "code",
   "execution_count": 31,
   "metadata": {},
   "outputs": [
    {
     "name": "stdout",
     "output_type": "stream",
     "text": [
      "['this is a test1this is a test2\\n', 'this is a test3\\n']\n"
     ]
    }
   ],
   "source": [
    "# 加上檔案是否存在的判斷\n",
    "if os.path.isfile(\"a.txt\"):\n",
    "    a=open(\"a.txt\",\"r\")\n",
    "    print(a.readlines())\n",
    "    a.close()\n",
    "else:\n",
    "    print(\"檔案不存在\")"
   ]
  },
  {
   "cell_type": "markdown",
   "metadata": {},
   "source": [
    "# Split函式"
   ]
  },
  {
   "cell_type": "code",
   "execution_count": 32,
   "metadata": {},
   "outputs": [
    {
     "name": "stdout",
     "output_type": "stream",
     "text": [
      "['this', 'is', 'a', 'test1this', 'is', 'a', 'test2\\n']\n",
      "['this', 'is', 'a', 'test3\\n']\n"
     ]
    }
   ],
   "source": [
    "if os.path.isfile(\"a.txt\"):\n",
    "    a=open(\"a.txt\",\"r\")\n",
    "    for line in a:\n",
    "        fields=line.split(\" \") #以空白為切割欄位\n",
    "        print(fields)\n",
    "    a.close()\n",
    "else:\n",
    "    print(\"檔案不存在\")"
   ]
  },
  {
   "cell_type": "markdown",
   "metadata": {},
   "source": [
    "# 附加檔案"
   ]
  },
  {
   "cell_type": "code",
   "execution_count": 43,
   "metadata": {},
   "outputs": [],
   "source": [
    "a=open(\"a.txt\",\"a\")\n",
    "a.write(\"this is test4\\n\")\n",
    "a.close()"
   ]
  },
  {
   "cell_type": "code",
   "execution_count": 44,
   "metadata": {},
   "outputs": [
    {
     "name": "stdout",
     "output_type": "stream",
     "text": [
      "['this is a test5\\n', 'is is a test2\\n', 'this is a test3\\n', 'this is test4\\n', 'this is a test5\\n', 'this is a test5\\n', 'this is a test5\\n', 'this is test4\\n']\n"
     ]
    }
   ],
   "source": [
    "a=open(\"a.txt\",\"r\")\n",
    "print(a.readlines())\n",
    "a.close()\n"
   ]
  },
  {
   "cell_type": "markdown",
   "metadata": {},
   "source": [
    "# 比較a與r+的不同\n",
    "* a寫在檔案的結尾\n",
    "* r+寫在檔案的開頭"
   ]
  },
  {
   "cell_type": "code",
   "execution_count": 47,
   "metadata": {},
   "outputs": [
    {
     "name": "stdout",
     "output_type": "stream",
     "text": [
      "['this is a test5\\n', 'is is a test2\\n', 'this is a test3\\n', 'this is test4\\n', 'this is a test5\\n', 'this is a test5\\n', 'this is a test5\\n', 'this is test4\\n', 'this is a test5\\n']\n"
     ]
    }
   ],
   "source": [
    "a=open(\"a.txt\",\"r+\")\n",
    "a.write(\"this is a test5\\n\")\n",
    "print(a.readlines())\n",
    "a.close()"
   ]
  },
  {
   "cell_type": "code",
   "execution_count": 50,
   "metadata": {},
   "outputs": [
    {
     "name": "stdout",
     "output_type": "stream",
     "text": [
      "['this is a test5\\n', 'is is a test2\\n', 'this is a test3\\n', 'this is test4\\n', 'this is a test5\\n', 'this is a test5\\n', 'this is a test5\\n', 'this is test4\\n', 'this is a test5\\n', 'this is a test5\\n']\n"
     ]
    }
   ],
   "source": [
    "a=open(\"a.txt\",\"r\")\n",
    "print(a.readlines())\n",
    "a.close()"
   ]
  },
  {
   "cell_type": "markdown",
   "metadata": {},
   "source": [
    "# 刪除檔案"
   ]
  },
  {
   "cell_type": "code",
   "execution_count": 54,
   "metadata": {},
   "outputs": [
    {
     "name": "stdout",
     "output_type": "stream",
     "text": [
      "找不到檔案\n",
      "False\n"
     ]
    }
   ],
   "source": [
    "if os.path.isfile(\"a.txt\"):\n",
    "    os.remove(\"a.txt\")\n",
    "    print(\"檔案刪除成功\")\n",
    "else:\n",
    "    print(\"找不到檔案\")\n",
    "print(os.path.isfile(\"a.txt\"))"
   ]
  },
  {
   "cell_type": "markdown",
   "metadata": {},
   "source": [
    "# Cahp7 錯誤處理\n",
    "try:\n",
    "\n",
    "except:\n",
    "\n",
    "else:\n",
    "\n",
    "finaly:"
   ]
  },
  {
   "cell_type": "code",
   "execution_count": 56,
   "metadata": {},
   "outputs": [
    {
     "name": "stdout",
     "output_type": "stream",
     "text": [
      "錯誤產生\n"
     ]
    }
   ],
   "source": [
    "a=10\n",
    "b=20\n",
    "try:\n",
    "    if a<b:\n",
    "        print(n)\n",
    "except:\n",
    "    print(\"錯誤產生\")"
   ]
  },
  {
   "cell_type": "markdown",
   "metadata": {},
   "source": [
    "# 指定錯誤類別處理"
   ]
  },
  {
   "cell_type": "code",
   "execution_count": 58,
   "metadata": {},
   "outputs": [
    {
     "name": "stdout",
     "output_type": "stream",
     "text": [
      "錯誤產生，錯誤原因： name 'n' is not defined\n"
     ]
    }
   ],
   "source": [
    "a=10\n",
    "b=20\n",
    "try:\n",
    "    if a<b:\n",
    "        print(n)\n",
    "except NameError as e:\n",
    "    print(\"錯誤產生，錯誤原因：\",e)\n",
    "except ZeroDivisionErroe:\n",
    "    print(\"除以0錯誤\")"
   ]
  },
  {
   "cell_type": "code",
   "execution_count": null,
   "metadata": {},
   "outputs": [],
   "source": [
    "a=10\n",
    "b=20\n",
    "try:\n",
    "    if a>b: #改變比較條件 讓錯誤不發生\n",
    "        print(n)\n",
    "except: \n",
    "    print(\"錯誤發生\")\n",
    "else:\n",
    "    print(\"沒有錯誤發生會執行的部分\")\n",
    "    "
   ]
  },
  {
   "cell_type": "code",
   "execution_count": null,
   "metadata": {},
   "outputs": [],
   "source": [
    "a=10\n",
    "b=20\n",
    "try:\n",
    "    if a>b: #改變比較條件，讓錯誤不發生\n",
    "        print(n)\n",
    "except:\n",
    "    print(\"錯誤發生\")\n",
    "else:\n",
    "    print(\"沒有錯誤發生\")\n",
    "finally:\n",
    "    print(\"不管有沒有錯誤一定會執行的部分\")"
   ]
  }
 ],
 "metadata": {
  "kernelspec": {
   "display_name": "Python 3",
   "language": "python",
   "name": "python3"
  },
  "language_info": {
   "codemirror_mode": {
    "name": "ipython",
    "version": 3
   },
   "file_extension": ".py",
   "mimetype": "text/x-python",
   "name": "python",
   "nbconvert_exporter": "python",
   "pygments_lexer": "ipython3",
   "version": "3.8.5"
  }
 },
 "nbformat": 4,
 "nbformat_minor": 4
}
